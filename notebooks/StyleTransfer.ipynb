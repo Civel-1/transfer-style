{
 "cells": [
  {
   "cell_type": "code",
   "execution_count": 2,
   "metadata": {},
   "outputs": [
    {
     "name": "stdout",
     "output_type": "stream",
     "text": [
      "Processing /home/natan/workspace/transfert_younes_nathan_jules\n",
      "Building wheels for collected packages: transferutils\n",
      "  Building wheel for transferutils (setup.py) ... \u001b[?25ldone\n",
      "\u001b[?25h  Created wheel for transferutils: filename=transferutils-0.0.1-cp36-none-any.whl size=4222 sha256=cbc77c02b7d329e93ff00661a28318f124269f2060872b48a431b43bc01e4b5e\n",
      "  Stored in directory: /tmp/pip-ephem-wheel-cache-v_1arqfr/wheels/6d/a8/21/d4951fd86d3141e0002c2e40beb0d9511e942cdc4caf6cc670\n",
      "Successfully built transferutils\n",
      "Installing collected packages: transferutils\n",
      "Successfully installed transferutils-0.0.1\n"
     ]
    }
   ],
   "source": [
    "!pip install .."
   ]
  },
  {
   "cell_type": "code",
   "execution_count": null,
   "metadata": {},
   "outputs": [],
   "source": []
  }
 ],
 "metadata": {
  "kernelspec": {
   "display_name": "Python 3",
   "language": "python",
   "name": "python3"
  },
  "language_info": {
   "codemirror_mode": {
    "name": "ipython",
    "version": 3
   },
   "file_extension": ".py",
   "mimetype": "text/x-python",
   "name": "python",
   "nbconvert_exporter": "python",
   "pygments_lexer": "ipython3",
   "version": "3.6.9"
  }
 },
 "nbformat": 4,
 "nbformat_minor": 4
}
